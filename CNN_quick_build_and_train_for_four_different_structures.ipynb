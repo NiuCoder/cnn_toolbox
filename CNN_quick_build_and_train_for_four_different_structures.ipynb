{
 "cells": [
  {
   "cell_type": "markdown",
   "metadata": {},
   "source": [
    "# 利用Keras快速构建和训练四种CNN结构\n",
    "本文利用Keras分别对**单输入单输出、单输入多输出、多输入单输出、多输入多输出**四种结构下的CNN网络结构进行快速构建和验证，并分别在普通模式和生成器模式下对所构建的模型进行训练和预测。实际应用中无外乎是这四种结构的变形，因此本文中构建和训练模型的方法可以作为最小原型参考，以便读者构建和训练对具体任务中所要构建的复杂网络。<br>\n",
    "实际任务中可能更多的需要根据特定的数据集构建**生成器**，本文提供的几种生成器的构建方法也有较强的参考意义。"
   ]
  },
  {
   "cell_type": "code",
   "execution_count": 125,
   "metadata": {
    "collapsed": true
   },
   "outputs": [],
   "source": [
    "import keras\n",
    "from keras.layers import Input,Conv2D,MaxPooling2D,Dense,Flatten,concatenate\n",
    "from keras.models import Sequential,Model\n",
    "import numpy as np\n",
    "from keras.optimizers import SGD"
   ]
  },
  {
   "cell_type": "code",
   "execution_count": 169,
   "metadata": {},
   "outputs": [
    {
     "data": {
      "text/plain": [
       "((64, 32, 32, 3), (64, 10), (64, 32, 32, 3), (64, 5))"
      ]
     },
     "execution_count": 169,
     "metadata": {},
     "output_type": "execute_result"
    }
   ],
   "source": [
    "# 本文涉及到的输入输出数据\n",
    "x_train = np.random.random((64,32,32,3))\n",
    "x_train2 = np.random.random((64,32,32,3))\n",
    "y_train = keras.utils.to_categorical(np.random.randint(10,size=(64,1)), num_classes=10)\n",
    "y_train2 = keras.utils.to_categorical(np.random.randint(5,size=(64,1)),num_classes=5)\n",
    "x_train.shape,y_train.shape,x_train2.shape,y_train2.shape"
   ]
  },
  {
   "cell_type": "code",
   "execution_count": 168,
   "metadata": {
    "collapsed": true
   },
   "outputs": [],
   "source": [
    "# 定义一个全局使用的optimizer\n",
    "optimizer = SGD(lr = 0.001, momentum = 0.9, decay = 0.0, nesterov = True)"
   ]
  },
  {
   "cell_type": "markdown",
   "metadata": {},
   "source": [
    "## 1 单输入单输出模型"
   ]
  },
  {
   "cell_type": "markdown",
   "metadata": {},
   "source": [
    "### 1.1 单入单出普通训练模式"
   ]
  },
  {
   "cell_type": "code",
   "execution_count": 170,
   "metadata": {},
   "outputs": [
    {
     "name": "stdout",
     "output_type": "stream",
     "text": [
      "_________________________________________________________________\n",
      "Layer (type)                 Output Shape              Param #   \n",
      "=================================================================\n",
      "conv2d_49 (Conv2D)           (None, 32, 32, 16)        448       \n",
      "_________________________________________________________________\n",
      "max_pooling2d_49 (MaxPooling (None, 16, 16, 16)        0         \n",
      "_________________________________________________________________\n",
      "conv2d_50 (Conv2D)           (None, 16, 16, 32)        4640      \n",
      "_________________________________________________________________\n",
      "max_pooling2d_50 (MaxPooling (None, 8, 8, 32)          0         \n",
      "_________________________________________________________________\n",
      "flatten_25 (Flatten)         (None, 2048)              0         \n",
      "_________________________________________________________________\n",
      "dense_37 (Dense)             (None, 64)                131136    \n",
      "_________________________________________________________________\n",
      "dense_38 (Dense)             (None, 10)                650       \n",
      "=================================================================\n",
      "Total params: 136,874\n",
      "Trainable params: 136,874\n",
      "Non-trainable params: 0\n",
      "_________________________________________________________________\n"
     ]
    }
   ],
   "source": [
    "# 由于比较单入单出模型较简单，这里用Sequential方式构建\n",
    "model1 = Sequential([\n",
    "    Conv2D(16,(3,3),padding='same',activation='relu', input_shape=(32,32,3)),\n",
    "    MaxPooling2D(pool_size=(2,2)),\n",
    "    Conv2D(32,(3,3),padding='same',activation='relu'),\n",
    "    MaxPooling2D(pool_size=(2,2)),\n",
    "    Flatten(),\n",
    "    Dense(64,activation='relu'),\n",
    "    Dense(10,activation='softmax')]\n",
    ")\n",
    "model1.summary()"
   ]
  },
  {
   "cell_type": "code",
   "execution_count": 171,
   "metadata": {},
   "outputs": [
    {
     "name": "stdout",
     "output_type": "stream",
     "text": [
      "Epoch 1/1\n",
      "64/64 [==============================] - 1s 21ms/step - loss: 2.3625 - acc: 0.1094\n"
     ]
    },
    {
     "data": {
      "text/plain": [
       "(64, 10)"
      ]
     },
     "execution_count": 171,
     "metadata": {},
     "output_type": "execute_result"
    }
   ],
   "source": [
    "model1.compile(loss='categorical_crossentropy',optimizer=optimizer,metrics=['accuracy'])\n",
    "model1.fit(x_train,y_train,2)\n",
    "score1 = model1.predict(x_train)\n",
    "score1.shape"
   ]
  },
  {
   "cell_type": "markdown",
   "metadata": {},
   "source": [
    "### 1.2 单入单出生成器模式"
   ]
  },
  {
   "cell_type": "code",
   "execution_count": 133,
   "metadata": {
    "collapsed": true
   },
   "outputs": [],
   "source": [
    "def sig_generator(x_train,y_train=None,batchsize=16,return_label=False):\n",
    "    N = x_train.shape[0]\n",
    "    batch_index = 0\n",
    "    while True:\n",
    "        cur_index = batch_index * batchsize\n",
    "        if N >= (cur_index + batchsize):\n",
    "            cur_batch_size = batchsize\n",
    "            batch_index += 1\n",
    "        else:\n",
    "            cur_batch_size = N - cur_index\n",
    "            batch_index = 0\n",
    "        \n",
    "        X_batch = x_train[cur_index:cur_index+cur_batch_size,:]\n",
    "        if return_label:\n",
    "            y_batch = y_train[cur_index:cur_index+cur_batch_size,:]\n",
    "            yield (X_batch,y_batch)\n",
    "        else:\n",
    "            yield X_batch"
   ]
  },
  {
   "cell_type": "code",
   "execution_count": 174,
   "metadata": {},
   "outputs": [
    {
     "name": "stdout",
     "output_type": "stream",
     "text": [
      "Epoch 1/1\n",
      "32/32 [==============================] - 1s 18ms/step - loss: 2.2988 - acc: 0.1250\n"
     ]
    },
    {
     "data": {
      "text/plain": [
       "(64, 10)"
      ]
     },
     "execution_count": 174,
     "metadata": {},
     "output_type": "execute_result"
    }
   ],
   "source": [
    "batch_gen1 = sig_generator(x_train,y_train,2,True)\n",
    "model1.fit_generator(batch_gen1,32)\n",
    "batch_gen1_test = sig_generator(x_train) #注意这里的batchsize没必要跟训练时一致\n",
    "score1_gen = model1.predict_generator(batch_gen1_test,4) \n",
    "score1_gen.shape"
   ]
  },
  {
   "cell_type": "markdown",
   "metadata": {},
   "source": [
    "## 2 单输入多输出模型"
   ]
  },
  {
   "cell_type": "markdown",
   "metadata": {},
   "source": [
    "### 2.1 单入多出普通训练模式"
   ]
  },
  {
   "cell_type": "code",
   "execution_count": 175,
   "metadata": {},
   "outputs": [
    {
     "name": "stdout",
     "output_type": "stream",
     "text": [
      "__________________________________________________________________________________________________\n",
      "Layer (type)                    Output Shape         Param #     Connected to                     \n",
      "==================================================================================================\n",
      "input_31 (InputLayer)           (None, 32, 32, 3)    0                                            \n",
      "__________________________________________________________________________________________________\n",
      "conv2d_51 (Conv2D)              (None, 32, 32, 16)   448         input_31[0][0]                   \n",
      "__________________________________________________________________________________________________\n",
      "max_pooling2d_51 (MaxPooling2D) (None, 16, 16, 16)   0           conv2d_51[0][0]                  \n",
      "__________________________________________________________________________________________________\n",
      "conv2d_52 (Conv2D)              (None, 16, 16, 32)   4640        max_pooling2d_51[0][0]           \n",
      "__________________________________________________________________________________________________\n",
      "max_pooling2d_52 (MaxPooling2D) (None, 8, 8, 32)     0           conv2d_52[0][0]                  \n",
      "__________________________________________________________________________________________________\n",
      "flatten_26 (Flatten)            (None, 2048)         0           max_pooling2d_52[0][0]           \n",
      "__________________________________________________________________________________________________\n",
      "dense_39 (Dense)                (None, 64)           131136      flatten_26[0][0]                 \n",
      "__________________________________________________________________________________________________\n",
      "prediction_one (Dense)          (None, 10)           650         dense_39[0][0]                   \n",
      "__________________________________________________________________________________________________\n",
      "prediction_two (Dense)          (None, 5)            325         dense_39[0][0]                   \n",
      "==================================================================================================\n",
      "Total params: 137,199\n",
      "Trainable params: 137,199\n",
      "Non-trainable params: 0\n",
      "__________________________________________________________________________________________________\n"
     ]
    }
   ],
   "source": [
    "# 利用函数式构建\n",
    "inputs = Input(shape=(32,32,3))\n",
    "conv_layer1 = Conv2D(16,(3,3),padding='same',activation='relu')(inputs)\n",
    "max_layer1 = MaxPooling2D(pool_size=(2,2))(conv_layer1)\n",
    "conv_layer2 = Conv2D(32,(3,3),padding='same',activation='relu')(max_layer1)\n",
    "max_layer2 = MaxPooling2D(pool_size=(2,2))(conv_layer2)\n",
    "flatten = Flatten()(max_layer2)\n",
    "dence1 = Dense(64,activation='relu')(flatten)\n",
    "f1 = Dense(10, activation='softmax', name='prediction_one')(dence1)\n",
    "f2 = Dense(5, activation='softmax', name='prediction_two')(dence1)\n",
    "model2 = Model(outputs=[f1,f2], inputs=inputs)\n",
    "model2.summary()"
   ]
  },
  {
   "cell_type": "code",
   "execution_count": 188,
   "metadata": {},
   "outputs": [
    {
     "name": "stdout",
     "output_type": "stream",
     "text": [
      "Epoch 1/1\n",
      "64/64 [==============================] - 2s 26ms/step - loss: 3.8765 - prediction_one_loss: 2.2725 - prediction_two_loss: 1.6041 - prediction_one_acc: 0.1250 - prediction_two_acc: 0.2188\n",
      "(64, 10)\n",
      "(64, 5)\n"
     ]
    }
   ],
   "source": [
    "# 注意这里的loss是一个list,还可以指定loss_weight进行加权\n",
    "model2.compile(loss=['categorical_crossentropy','categorical_crossentropy'],optimizer=optimizer,metrics=['accuracy'])\n",
    "model2.fit(x_train,[y_train,y_train2],2)\n",
    "score2 = model2.predict(x_train)\n",
    "# 多输出的结果为一个list\n",
    "for score in score2:\n",
    "    print(score.shape)"
   ]
  },
  {
   "cell_type": "markdown",
   "metadata": {},
   "source": [
    "### 2.2 单入多出生成器模式"
   ]
  },
  {
   "cell_type": "code",
   "execution_count": 141,
   "metadata": {
    "collapsed": true
   },
   "outputs": [],
   "source": [
    "def dul_generator(x_train,y_train=None,y_train2=None,batchsize=16,return_label=False):\n",
    "    N = x_train.shape[0]\n",
    "    batch_index = 0\n",
    "    while True:\n",
    "        cur_index = batch_index * batchsize\n",
    "        if N >= (cur_index + batchsize):\n",
    "            cur_batch_size = batchsize\n",
    "            batch_index += 1\n",
    "        else:\n",
    "            cur_batch_size = N - cur_index\n",
    "            batch_index = 0\n",
    "        \n",
    "        X_batch = x_train[cur_index:cur_index+cur_batch_size,:]\n",
    "        if return_label:\n",
    "            y_batch1 = y_train[cur_index:cur_index+cur_batch_size,:]\n",
    "            y_batch2 = y_train2[cur_index:cur_index+cur_batch_size,:]\n",
    "            yield (X_batch,[y_batch1,y_batch2])\n",
    "        else:\n",
    "            yield X_batch"
   ]
  },
  {
   "cell_type": "code",
   "execution_count": 177,
   "metadata": {},
   "outputs": [
    {
     "name": "stdout",
     "output_type": "stream",
     "text": [
      "Epoch 1/1\n",
      "32/32 [==============================] - 1s 19ms/step - loss: 3.8985 - prediction_one_loss: 2.2806 - prediction_two_loss: 1.6180 - prediction_one_acc: 0.1250 - prediction_two_acc: 0.2188\n",
      "(64, 10)\n",
      "(64, 5)\n"
     ]
    }
   ],
   "source": [
    "batch_gen2 = dul_generator(x_train,y_train,y_train2,2,True)\n",
    "model2.fit_generator(batch_gen2,32)\n",
    "batch_gen2_test = dul_generator(x_train)\n",
    "score2_gen = model2.predict_generator(batch_gen2_test,4)\n",
    "for score in score2_gen:\n",
    "    print(score.shape)"
   ]
  },
  {
   "cell_type": "markdown",
   "metadata": {},
   "source": [
    "### 2.3 单输入多分支单输出模式"
   ]
  },
  {
   "cell_type": "code",
   "execution_count": 178,
   "metadata": {},
   "outputs": [
    {
     "name": "stdout",
     "output_type": "stream",
     "text": [
      "__________________________________________________________________________________________________\n",
      "Layer (type)                    Output Shape         Param #     Connected to                     \n",
      "==================================================================================================\n",
      "input_32 (InputLayer)           (None, 32, 32, 3)    0                                            \n",
      "__________________________________________________________________________________________________\n",
      "conv2d_53 (Conv2D)              (None, 32, 32, 16)   448         input_32[0][0]                   \n",
      "__________________________________________________________________________________________________\n",
      "max_pooling2d_53 (MaxPooling2D) (None, 16, 16, 16)   0           conv2d_53[0][0]                  \n",
      "__________________________________________________________________________________________________\n",
      "conv2d_54 (Conv2D)              (None, 16, 16, 32)   4640        max_pooling2d_53[0][0]           \n",
      "__________________________________________________________________________________________________\n",
      "max_pooling2d_54 (MaxPooling2D) (None, 8, 8, 32)     0           conv2d_54[0][0]                  \n",
      "__________________________________________________________________________________________________\n",
      "flatten_27 (Flatten)            (None, 2048)         0           max_pooling2d_54[0][0]           \n",
      "__________________________________________________________________________________________________\n",
      "dense_40 (Dense)                (None, 64)           131136      flatten_27[0][0]                 \n",
      "__________________________________________________________________________________________________\n",
      "dense_41 (Dense)                (None, 128)          262272      flatten_27[0][0]                 \n",
      "__________________________________________________________________________________________________\n",
      "concatenate_18 (Concatenate)    (None, 192)          0           dense_40[0][0]                   \n",
      "                                                                 dense_41[0][0]                   \n",
      "__________________________________________________________________________________________________\n",
      "prediction_one (Dense)          (None, 10)           1930        concatenate_18[0][0]             \n",
      "==================================================================================================\n",
      "Total params: 400,426\n",
      "Trainable params: 400,426\n",
      "Non-trainable params: 0\n",
      "__________________________________________________________________________________________________\n"
     ]
    }
   ],
   "source": [
    "# 实际中单输入多输出更多用于提取隐含层特征，所以到不了最后的输出，比如这里在flatten_4后边跟两个dense输出不同维度的特征，然后可能做一个整合\n",
    "# 这是就需要对模型做如下修改\n",
    "inputs = Input(shape=(32,32,3))\n",
    "conv_layer1 = Conv2D(16,(3,3),padding='same',activation='relu')(inputs)\n",
    "max_layer1 = MaxPooling2D(pool_size=(2,2))(conv_layer1)\n",
    "conv_layer2 = Conv2D(32,(3,3),padding='same',activation='relu')(max_layer1)\n",
    "max_layer2 = MaxPooling2D(pool_size=(2,2))(conv_layer2)\n",
    "flatten = Flatten()(max_layer2)\n",
    "dence1 = Dense(64,activation='relu')(flatten)\n",
    "dence2 = Dense(128,activation='relu')(flatten)\n",
    "dence_cat = concatenate([dence1,dence2])\n",
    "f1 = Dense(10, activation='softmax', name='prediction_one')(dence_cat)\n",
    "model3 = Model(outputs=f1,inputs=inputs)\n",
    "model3.summary()"
   ]
  },
  {
   "cell_type": "code",
   "execution_count": 180,
   "metadata": {},
   "outputs": [
    {
     "name": "stdout",
     "output_type": "stream",
     "text": [
      "Epoch 1/1\n",
      "64/64 [==============================] - 2s 28ms/step - loss: 2.4516 - acc: 0.0469\n"
     ]
    },
    {
     "data": {
      "text/plain": [
       "(64, 10)"
      ]
     },
     "execution_count": 180,
     "metadata": {},
     "output_type": "execute_result"
    }
   ],
   "source": [
    "# 其实仍是一个单输入单输出模型，只不过内部结构复杂了一些\n",
    "model3.compile(loss='categorical_crossentropy',optimizer=optimizer,metrics=['accuracy'])\n",
    "model3.fit(x_train,y_train,2)\n",
    "score3 = model3.predict(x_train)\n",
    "score3.shape"
   ]
  },
  {
   "cell_type": "code",
   "execution_count": 182,
   "metadata": {},
   "outputs": [
    {
     "name": "stdout",
     "output_type": "stream",
     "text": [
      "Epoch 1/1\n",
      "32/32 [==============================] - 1s 27ms/step - loss: 2.2951 - acc: 0.1094\n"
     ]
    },
    {
     "data": {
      "text/plain": [
       "(64, 10)"
      ]
     },
     "execution_count": 182,
     "metadata": {},
     "output_type": "execute_result"
    }
   ],
   "source": [
    "batch_gen3 = sig_generator(x_train,y_train,2,True)\n",
    "model3.fit_generator(batch_gen3,32)\n",
    "batch_gen3_test = sig_generator(x_train)\n",
    "score3_gen = model3.predict_generator(batch_gen3_test,4)\n",
    "score3_gen.shape"
   ]
  },
  {
   "cell_type": "markdown",
   "metadata": {},
   "source": [
    "## 3 多输入单输出模型"
   ]
  },
  {
   "cell_type": "markdown",
   "metadata": {},
   "source": [
    "### 3.1 多入单出普通训练模式"
   ]
  },
  {
   "cell_type": "code",
   "execution_count": 183,
   "metadata": {},
   "outputs": [
    {
     "name": "stdout",
     "output_type": "stream",
     "text": [
      "__________________________________________________________________________________________________\n",
      "Layer (type)                    Output Shape         Param #     Connected to                     \n",
      "==================================================================================================\n",
      "input_33 (InputLayer)           (None, 32, 32, 3)    0                                            \n",
      "__________________________________________________________________________________________________\n",
      "input_34 (InputLayer)           (None, 32, 32, 3)    0                                            \n",
      "__________________________________________________________________________________________________\n",
      "concatenate_19 (Concatenate)    (None, 32, 32, 6)    0           input_33[0][0]                   \n",
      "                                                                 input_34[0][0]                   \n",
      "__________________________________________________________________________________________________\n",
      "conv2d_55 (Conv2D)              (None, 32, 32, 16)   880         concatenate_19[0][0]             \n",
      "__________________________________________________________________________________________________\n",
      "max_pooling2d_55 (MaxPooling2D) (None, 16, 16, 16)   0           conv2d_55[0][0]                  \n",
      "__________________________________________________________________________________________________\n",
      "conv2d_56 (Conv2D)              (None, 16, 16, 32)   4640        max_pooling2d_55[0][0]           \n",
      "__________________________________________________________________________________________________\n",
      "max_pooling2d_56 (MaxPooling2D) (None, 8, 8, 32)     0           conv2d_56[0][0]                  \n",
      "__________________________________________________________________________________________________\n",
      "flatten_28 (Flatten)            (None, 2048)         0           max_pooling2d_56[0][0]           \n",
      "__________________________________________________________________________________________________\n",
      "dense_42 (Dense)                (None, 64)           131136      flatten_28[0][0]                 \n",
      "__________________________________________________________________________________________________\n",
      "prediction_one (Dense)          (None, 10)           650         dense_42[0][0]                   \n",
      "==================================================================================================\n",
      "Total params: 137,306\n",
      "Trainable params: 137,306\n",
      "Non-trainable params: 0\n",
      "__________________________________________________________________________________________________\n"
     ]
    }
   ],
   "source": [
    "# 输入可以在任意层进行的整合，这里我们只对输入层进行整合\n",
    "input1 = Input(shape=(32,32,3))\n",
    "input2 = Input(shape=(32,32,3))\n",
    "cc = concatenate([input1, input2])\n",
    "conv_layer1 = Conv2D(16,(3,3),padding='same',activation='relu')(cc)\n",
    "max_layer1 = MaxPooling2D(pool_size=(2,2))(conv_layer1)\n",
    "conv_layer2 = Conv2D(32,(3,3),padding='same',activation='relu')(max_layer1)\n",
    "max_layer2 = MaxPooling2D(pool_size=(2,2))(conv_layer2)\n",
    "flatten = Flatten()(max_layer2)\n",
    "dence1 = Dense(64,activation='relu')(flatten)\n",
    "f1 = Dense(10, activation='softmax', name='prediction_one')(dence1)\n",
    "model4 = Model(outputs=f1,inputs=[input1,input2])\n",
    "model4.summary()"
   ]
  },
  {
   "cell_type": "code",
   "execution_count": 184,
   "metadata": {},
   "outputs": [
    {
     "name": "stdout",
     "output_type": "stream",
     "text": [
      "Epoch 1/1\n",
      "64/64 [==============================] - 1s 22ms/step - loss: 2.3626 - acc: 0.1250\n"
     ]
    },
    {
     "data": {
      "text/plain": [
       "(64, 10)"
      ]
     },
     "execution_count": 184,
     "metadata": {},
     "output_type": "execute_result"
    }
   ],
   "source": [
    "model4.compile(loss='categorical_crossentropy',optimizer=optimizer,metrics=['accuracy'])\n",
    "model4.fit([x_train,x_train2],y_train,2)\n",
    "score4 = model4.predict([x_train,x_train2])\n",
    "score4.shape"
   ]
  },
  {
   "cell_type": "markdown",
   "metadata": {},
   "source": [
    "### 3.2 多入单出生成器模式"
   ]
  },
  {
   "cell_type": "code",
   "execution_count": 185,
   "metadata": {
    "collapsed": true
   },
   "outputs": [],
   "source": [
    "# 要求x_train和x_train2有同样的维度\n",
    "def dul_generator2(x_train,x_train2,y_train=None,batchsize=16,return_label=False):\n",
    "    N = x_train.shape[0]\n",
    "    batch_index = 0\n",
    "    while True:\n",
    "        cur_index = batch_index * batchsize\n",
    "        if N >= (cur_index + batchsize):\n",
    "            cur_batch_size = batchsize\n",
    "            batch_index += 1\n",
    "        else:\n",
    "            cur_batch_size = N - cur_index\n",
    "            batch_index = 0\n",
    "        \n",
    "        X_batch1 = x_train[cur_index:cur_index+cur_batch_size,:]\n",
    "        X_batch2 = x_train2[cur_index:cur_index+cur_batch_size,:]\n",
    "        if return_label:\n",
    "            y_batch = y_train[cur_index:cur_index+cur_batch_size,:]\n",
    "            yield ([X_batch1,X_batch2],y_batch)\n",
    "        else:\n",
    "            yield [X_batch1,X_batch2]"
   ]
  },
  {
   "cell_type": "code",
   "execution_count": 186,
   "metadata": {},
   "outputs": [
    {
     "name": "stdout",
     "output_type": "stream",
     "text": [
      "Epoch 1/1\n",
      "32/32 [==============================] - 1s 16ms/step - loss: 2.2944 - acc: 0.0938\n"
     ]
    },
    {
     "data": {
      "text/plain": [
       "(64, 10)"
      ]
     },
     "execution_count": 186,
     "metadata": {},
     "output_type": "execute_result"
    }
   ],
   "source": [
    "batch_gen4 = dul_generator2(x_train,x_train2,y_train,2,True)\n",
    "model4.fit_generator(batch_gen4,32)\n",
    "batch_gen4_test = dul_generator2(x_train,x_train2)\n",
    "score4 = model4.predict_generator(batch_gen4_test,4)\n",
    "score4.shape"
   ]
  },
  {
   "cell_type": "markdown",
   "metadata": {},
   "source": [
    "## 4 多输入多输出模型\n",
    "将单输入多输出和多输入单输出结合起来"
   ]
  },
  {
   "cell_type": "markdown",
   "metadata": {},
   "source": [
    "### 4.1 多入多出普通训练模式"
   ]
  },
  {
   "cell_type": "code",
   "execution_count": 189,
   "metadata": {},
   "outputs": [
    {
     "name": "stdout",
     "output_type": "stream",
     "text": [
      "__________________________________________________________________________________________________\n",
      "Layer (type)                    Output Shape         Param #     Connected to                     \n",
      "==================================================================================================\n",
      "input_37 (InputLayer)           (None, 32, 32, 3)    0                                            \n",
      "__________________________________________________________________________________________________\n",
      "input_38 (InputLayer)           (None, 32, 32, 3)    0                                            \n",
      "__________________________________________________________________________________________________\n",
      "concatenate_21 (Concatenate)    (None, 32, 32, 6)    0           input_37[0][0]                   \n",
      "                                                                 input_38[0][0]                   \n",
      "__________________________________________________________________________________________________\n",
      "conv2d_59 (Conv2D)              (None, 32, 32, 16)   880         concatenate_21[0][0]             \n",
      "__________________________________________________________________________________________________\n",
      "max_pooling2d_59 (MaxPooling2D) (None, 16, 16, 16)   0           conv2d_59[0][0]                  \n",
      "__________________________________________________________________________________________________\n",
      "conv2d_60 (Conv2D)              (None, 16, 16, 32)   4640        max_pooling2d_59[0][0]           \n",
      "__________________________________________________________________________________________________\n",
      "max_pooling2d_60 (MaxPooling2D) (None, 8, 8, 32)     0           conv2d_60[0][0]                  \n",
      "__________________________________________________________________________________________________\n",
      "flatten_30 (Flatten)            (None, 2048)         0           max_pooling2d_60[0][0]           \n",
      "__________________________________________________________________________________________________\n",
      "dense_44 (Dense)                (None, 64)           131136      flatten_30[0][0]                 \n",
      "__________________________________________________________________________________________________\n",
      "prediction_one (Dense)          (None, 10)           650         dense_44[0][0]                   \n",
      "__________________________________________________________________________________________________\n",
      "prediction_two (Dense)          (None, 5)            325         dense_44[0][0]                   \n",
      "==================================================================================================\n",
      "Total params: 137,631\n",
      "Trainable params: 137,631\n",
      "Non-trainable params: 0\n",
      "__________________________________________________________________________________________________\n"
     ]
    }
   ],
   "source": [
    "input1 = Input(shape=(32,32,3))\n",
    "input2 = Input(shape=(32,32,3))\n",
    "cc = concatenate([input1, input2])\n",
    "conv_layer1 = Conv2D(16,(3,3),padding='same',activation='relu')(cc)\n",
    "max_layer1 = MaxPooling2D(pool_size=(2,2))(conv_layer1)\n",
    "conv_layer2 = Conv2D(32,(3,3),padding='same',activation='relu')(max_layer1)\n",
    "max_layer2 = MaxPooling2D(pool_size=(2,2))(conv_layer2)\n",
    "flatten = Flatten()(max_layer2)\n",
    "dence1 = Dense(64,activation='relu')(flatten)\n",
    "f1 = Dense(10, activation='softmax', name='prediction_one')(dence1)\n",
    "f2 = Dense(5, activation='softmax', name='prediction_two')(dence1)\n",
    "model5 = Model(outputs=[f1,f2],inputs=[input1,input2])\n",
    "model5.summary()"
   ]
  },
  {
   "cell_type": "code",
   "execution_count": 190,
   "metadata": {},
   "outputs": [
    {
     "name": "stdout",
     "output_type": "stream",
     "text": [
      "Epoch 1/1\n",
      "64/64 [==============================] - 2s 38ms/step - loss: 4.0508 - prediction_one_loss: 2.3733 - prediction_two_loss: 1.6775 - prediction_one_acc: 0.0625 - prediction_two_acc: 0.2500\n",
      "(64, 10)\n",
      "(64, 5)\n"
     ]
    }
   ],
   "source": [
    "model5.compile(loss=['categorical_crossentropy','categorical_crossentropy'],optimizer=optimizer,metrics=['accuracy'])\n",
    "model5.fit([x_train,x_train2],[y_train,y_train2],2)\n",
    "score5 = model5.predict([x_train,x_train2])\n",
    "for score in score5:\n",
    "    print(score.shape)"
   ]
  },
  {
   "cell_type": "markdown",
   "metadata": {},
   "source": [
    "### 4.2 多入多出生成器模式"
   ]
  },
  {
   "cell_type": "code",
   "execution_count": 162,
   "metadata": {
    "collapsed": true
   },
   "outputs": [],
   "source": [
    "def dual_generator(x_train,x_train2,y_train=None,y_train2=None,batchsize=16,return_label=False):\n",
    "    N = x_train.shape[0]\n",
    "    batch_index = 0\n",
    "    while True:\n",
    "        cur_index = batch_index * batchsize\n",
    "        if N >= (cur_index + batchsize):\n",
    "            cur_batch_size = batchsize\n",
    "            batch_index += 1\n",
    "        else:\n",
    "            cur_batch_size = N - cur_index\n",
    "            batch_index = 0\n",
    "        \n",
    "        X_batch1 = x_train[cur_index:cur_index+cur_batch_size,:]\n",
    "        X_batch2 = x_train2[cur_index:cur_index+cur_batch_size,:]\n",
    "        if return_label:\n",
    "            y_batch1 = y_train[cur_index:cur_index+cur_batch_size,:]\n",
    "            y_batch2 = y_train2[cur_index:cur_index+cur_batch_size,:]\n",
    "            yield ([X_batch1,X_batch2],[y_batch1,y_batch2])\n",
    "        else:\n",
    "            yield [X_batch1,X_batch2]"
   ]
  },
  {
   "cell_type": "code",
   "execution_count": 191,
   "metadata": {},
   "outputs": [
    {
     "name": "stdout",
     "output_type": "stream",
     "text": [
      "Epoch 1/1\n",
      "32/32 [==============================] - 1s 20ms/step - loss: 3.8681 - prediction_one_loss: 2.2751 - prediction_two_loss: 1.5930 - prediction_one_acc: 0.1875 - prediction_two_acc: 0.2500\n",
      "(64, 10)\n",
      "(64, 5)\n"
     ]
    }
   ],
   "source": [
    "batch_gen5 = dual_generator(x_train,x_train2,y_train,y_train2,2,True)\n",
    "model5.fit_generator(batch_gen5,32)\n",
    "batch_gen5_test = dual_generator(x_train,x_train2)\n",
    "score5 = model5.predict_generator(batch_gen5_test,4)\n",
    "for score in score5:\n",
    "    print(score.shape)"
   ]
  },
  {
   "cell_type": "code",
   "execution_count": null,
   "metadata": {
    "collapsed": true
   },
   "outputs": [],
   "source": []
  }
 ],
 "metadata": {
  "kernelspec": {
   "display_name": "Python tensorflow",
   "language": "python",
   "name": "tensorflow"
  },
  "language_info": {
   "codemirror_mode": {
    "name": "ipython",
    "version": 3
   },
   "file_extension": ".py",
   "mimetype": "text/x-python",
   "name": "python",
   "nbconvert_exporter": "python",
   "pygments_lexer": "ipython3",
   "version": "3.5.4"
  }
 },
 "nbformat": 4,
 "nbformat_minor": 2
}
